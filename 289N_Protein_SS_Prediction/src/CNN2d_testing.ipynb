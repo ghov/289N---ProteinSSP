{
 "cells": [
  {
   "cell_type": "code",
   "execution_count": 17,
   "metadata": {},
   "outputs": [],
   "source": [
    "import os\n",
    "os.environ[\"CUDA_DEVICE_ORDER\"] = \"PCI_BUS_ID\"\n",
    "os.environ[\"CUDA_VISIBLE_DEVICES\"] = \"\"\n",
    "\n",
    "import numpy as np\n",
    "from keras.models import load_model\n",
    "\n",
    "model_file_path = '/home/greghovhannisyan/PycharmProjects/289N_Protein_SS_Prediction/saved_models/cnn_model_val_0.0404.h5'\n",
    "data_file_path = '/home/greghovhannisyan/PycharmProjects/289N_Protein_SS_Prediction/Data/cullpdb+profile_6133.npy.gz'\n",
    "\n",
    "my_data = np.load(data_file_path)\n",
    "my_model = load_model(model_file_path)\n",
    "\n",
    "reshaped_data = np.reshape(my_data, (6133,700,57,1))\n",
    "X_Train = reshaped_data[:,:,0:22, :]\n",
    "Y_Train = reshaped_data[:,:,22:31, :]\n",
    "\n",
    "predictions  = my_model.predict(X_Train[:,:,:,:])\n"
   ]
  },
  {
   "cell_type": "code",
   "execution_count": 2,
   "metadata": {},
   "outputs": [
    {
     "data": {
      "text/plain": [
       "(9, 1)"
      ]
     },
     "execution_count": 2,
     "metadata": {},
     "output_type": "execute_result"
    }
   ],
   "source": [
    "predictions[0][0].shape"
   ]
  },
  {
   "cell_type": "code",
   "execution_count": 21,
   "metadata": {},
   "outputs": [],
   "source": [
    "import tensorflow as tf\n",
    "a = tf.convert_to_tensor(Y_Train)"
   ]
  },
  {
   "cell_type": "code",
   "execution_count": 35,
   "metadata": {},
   "outputs": [
    {
     "data": {
      "text/plain": [
       "6133"
      ]
     },
     "execution_count": 35,
     "metadata": {},
     "output_type": "execute_result"
    }
   ],
   "source": [
    "int(a.shape[0])"
   ]
  },
  {
   "cell_type": "code",
   "execution_count": 3,
   "metadata": {},
   "outputs": [
    {
     "data": {
      "text/plain": [
       "array([[0.03606068],\n",
       "       [0.        ],\n",
       "       [0.35171577],\n",
       "       [0.        ],\n",
       "       [0.09427586],\n",
       "       [0.23466042],\n",
       "       [0.        ],\n",
       "       [0.        ],\n",
       "       [0.        ]], dtype=float32)"
      ]
     },
     "execution_count": 3,
     "metadata": {},
     "output_type": "execute_result"
    }
   ],
   "source": [
    "predictions[0][5]"
   ]
  },
  {
   "cell_type": "code",
   "execution_count": 22,
   "metadata": {},
   "outputs": [
    {
     "data": {
      "text/plain": [
       "array([[0.],\n",
       "       [0.],\n",
       "       [1.],\n",
       "       [0.],\n",
       "       [0.],\n",
       "       [0.],\n",
       "       [0.],\n",
       "       [0.],\n",
       "       [0.]])"
      ]
     },
     "execution_count": 22,
     "metadata": {},
     "output_type": "execute_result"
    }
   ],
   "source": [
    "Y_Train[0][1]"
   ]
  },
  {
   "cell_type": "code",
   "execution_count": 6,
   "metadata": {},
   "outputs": [
    {
     "data": {
      "text/plain": [
       "6"
      ]
     },
     "execution_count": 6,
     "metadata": {},
     "output_type": "execute_result"
    }
   ],
   "source": [
    "np.argmax(predictions[0][0])"
   ]
  },
  {
   "cell_type": "code",
   "execution_count": 15,
   "metadata": {},
   "outputs": [
    {
     "data": {
      "text/plain": [
       "array([1.4914745e-01, 0.0000000e+00, 0.0000000e+00, 3.3899263e-02,\n",
       "       3.9462745e-04, 4.4839233e-01, 0.0000000e+00, 0.0000000e+00,\n",
       "       0.0000000e+00], dtype=float32)"
      ]
     },
     "execution_count": 15,
     "metadata": {},
     "output_type": "execute_result"
    }
   ],
   "source": [
    "predictions[0][0]"
   ]
  },
  {
   "cell_type": "code",
   "execution_count": 18,
   "metadata": {},
   "outputs": [
    {
     "name": "stdout",
     "output_type": "stream",
     "text": [
      "23324\n",
      "29187\n"
     ]
    }
   ],
   "source": [
    "total_counter = 0\n",
    "protein_error_list = list()\n",
    "protein_error_counter = 0\n",
    "t = Y_Train[6001:6133,:,:]\n",
    "\n",
    "for i in range(132):\n",
    "    aa_error_counter = 0\n",
    "    protein_error_list.append(list())\n",
    "    for j in range(700):\n",
    "        if(np.argmax(t[i][j][:]) != 8):\n",
    "            total_counter += 1\n",
    "            if(np.argmax(predictions[i][j][:]) != np.argmax(t[i][j][:])):\n",
    "                #print(np.argmax(predictions[i][j][:]), np.argmax(t[i][j][:]))\n",
    "                protein_error_list[i].append(1)            \n",
    "\n",
    "\n",
    "total_error = 0\n",
    "for val in protein_error_list:\n",
    "    total_error += len(val)\n",
    "\n",
    "print(total_error)\n",
    "print(total_counter)\n"
   ]
  },
  {
   "cell_type": "code",
   "execution_count": 19,
   "metadata": {},
   "outputs": [
    {
     "name": "stdout",
     "output_type": "stream",
     "text": [
      "Accuracy is 0.20087710281974852\n"
     ]
    }
   ],
   "source": [
    "accuracy = (total_counter-total_error)/total_counter\n",
    "print('Accuracy is ' + str(accuracy))"
   ]
  },
  {
   "cell_type": "code",
   "execution_count": null,
   "metadata": {},
   "outputs": [],
   "source": []
  }
 ],
 "metadata": {
  "kernelspec": {
   "display_name": "Python 3",
   "language": "python",
   "name": "python3"
  },
  "language_info": {
   "codemirror_mode": {
    "name": "ipython",
    "version": 3
   },
   "file_extension": ".py",
   "mimetype": "text/x-python",
   "name": "python",
   "nbconvert_exporter": "python",
   "pygments_lexer": "ipython3",
   "version": "3.5.2"
  }
 },
 "nbformat": 4,
 "nbformat_minor": 2
}
