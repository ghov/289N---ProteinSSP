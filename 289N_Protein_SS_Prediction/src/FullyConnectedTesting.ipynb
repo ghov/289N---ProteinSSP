{
 "cells": [
  {
   "cell_type": "code",
   "execution_count": 1,
   "metadata": {},
   "outputs": [
    {
     "name": "stderr",
     "output_type": "stream",
     "text": [
      "/usr/local/lib/python3.5/dist-packages/h5py/__init__.py:36: FutureWarning: Conversion of the second argument of issubdtype from `float` to `np.floating` is deprecated. In future, it will be treated as `np.float64 == np.dtype(float).type`.\n",
      "  from ._conv import register_converters as _register_converters\n",
      "Using TensorFlow backend.\n"
     ]
    }
   ],
   "source": [
    "import os\n",
    "os.environ[\"CUDA_DEVICE_ORDER\"] = \"PCI_BUS_ID\"\n",
    "os.environ[\"CUDA_VISIBLE_DEVICES\"] = \"\"\n",
    "\n",
    "import numpy as np\n",
    "from keras.models import load_model\n",
    "\n",
    "model_file_path = '/home/greghovhannisyan/PycharmProjects/289N_Protein_SS_Prediction/saved_models/fc_model_44_params_val_0.0223.h5'\n",
    "data_file_path = '/home/greghovhannisyan/PycharmProjects/289N_Protein_SS_Prediction/Data/cullpdb+profile_6133.npy.gz'\n",
    "\n",
    "my_data = np.load(data_file_path)\n",
    "my_model = load_model(model_file_path)\n",
    "\n",
    "reshaped_data = np.reshape(my_data, (6133,700,57))\n",
    "X_Train = np.concatenate((reshaped_data[:,:,0:22],reshaped_data[:,:,35:57]), axis=2)\n",
    "Y_Train = reshaped_data[:,:,22:31]\n",
    "\n",
    "predictions  = my_model.predict(X_Train[5001:6133,:,:])\n"
   ]
  },
  {
   "cell_type": "code",
   "execution_count": 16,
   "metadata": {},
   "outputs": [
    {
     "data": {
      "text/plain": [
       "(6133, 700, 44)"
      ]
     },
     "execution_count": 16,
     "metadata": {},
     "output_type": "execute_result"
    }
   ],
   "source": [
    "np.concatenate((reshaped_data[:,:,0:22],reshaped_data[:,:,35:57]), axis=2).shape"
   ]
  },
  {
   "cell_type": "code",
   "execution_count": 11,
   "metadata": {},
   "outputs": [
    {
     "data": {
      "text/plain": [
       "(9,)"
      ]
     },
     "execution_count": 11,
     "metadata": {},
     "output_type": "execute_result"
    }
   ],
   "source": [
    "predictions[0][0].shape"
   ]
  },
  {
   "cell_type": "code",
   "execution_count": 24,
   "metadata": {},
   "outputs": [
    {
     "data": {
      "text/plain": [
       "array([0., 0., 0., 0., 0., 0., 0., 0., 1.])"
      ]
     },
     "execution_count": 24,
     "metadata": {},
     "output_type": "execute_result"
    }
   ],
   "source": [
    "t = Y_Train[6001:6133,:,:]\n",
    "t[0][600]"
   ]
  },
  {
   "cell_type": "code",
   "execution_count": 4,
   "metadata": {},
   "outputs": [
    {
     "data": {
      "text/plain": [
       "array([0.17588595, 0.00670674, 0.15877554, 0.04365741, 0.00194273,\n",
       "       0.43120855, 0.07920985, 0.10161977, 0.00099343], dtype=float32)"
      ]
     },
     "execution_count": 4,
     "metadata": {},
     "output_type": "execute_result"
    }
   ],
   "source": [
    "predictions[0][5]"
   ]
  },
  {
   "cell_type": "code",
   "execution_count": 22,
   "metadata": {},
   "outputs": [
    {
     "data": {
      "text/plain": [
       "array([[0.],\n",
       "       [0.],\n",
       "       [1.],\n",
       "       [0.],\n",
       "       [0.],\n",
       "       [0.],\n",
       "       [0.],\n",
       "       [0.],\n",
       "       [0.]])"
      ]
     },
     "execution_count": 22,
     "metadata": {},
     "output_type": "execute_result"
    }
   ],
   "source": [
    "Y_Train[0][1]"
   ]
  },
  {
   "cell_type": "code",
   "execution_count": 6,
   "metadata": {},
   "outputs": [
    {
     "data": {
      "text/plain": [
       "6"
      ]
     },
     "execution_count": 6,
     "metadata": {},
     "output_type": "execute_result"
    }
   ],
   "source": [
    "np.argmax(predictions[0][0])"
   ]
  },
  {
   "cell_type": "code",
   "execution_count": 15,
   "metadata": {},
   "outputs": [
    {
     "data": {
      "text/plain": [
       "array([1.4914745e-01, 0.0000000e+00, 0.0000000e+00, 3.3899263e-02,\n",
       "       3.9462745e-04, 4.4839233e-01, 0.0000000e+00, 0.0000000e+00,\n",
       "       0.0000000e+00], dtype=float32)"
      ]
     },
     "execution_count": 15,
     "metadata": {},
     "output_type": "execute_result"
    }
   ],
   "source": [
    "predictions[0][0]"
   ]
  },
  {
   "cell_type": "code",
   "execution_count": 2,
   "metadata": {},
   "outputs": [
    {
     "name": "stdout",
     "output_type": "stream",
     "text": [
      "126846\n",
      "237078\n"
     ]
    }
   ],
   "source": [
    "total_counter = 0\n",
    "protein_error_list = list()\n",
    "protein_error_counter = 0\n",
    "t = Y_Train[5001:6133,:,:]\n",
    "\n",
    "for i in range(len(t)):\n",
    "    aa_error_counter = 0\n",
    "    protein_error_list.append(list())\n",
    "    for j in range(700):\n",
    "        if(np.argmax(t[i][j][:]) != 8):\n",
    "            total_counter += 1\n",
    "            if(np.argmax(predictions[i][j][:]) != np.argmax(t[i][j][:])):\n",
    "                #print(np.argmax(predictions[i][j][:]), np.argmax(t[i][j][:]))\n",
    "                protein_error_list[i].append(1)            \n",
    "\n",
    "\n",
    "total_error = 0\n",
    "for val in protein_error_list:\n",
    "    total_error += len(val)\n",
    "\n",
    "print(total_error)\n",
    "print(total_counter)\n"
   ]
  },
  {
   "cell_type": "code",
   "execution_count": 3,
   "metadata": {},
   "outputs": [
    {
     "name": "stdout",
     "output_type": "stream",
     "text": [
      "Accuracy is 0.46496089894465115\n"
     ]
    }
   ],
   "source": [
    "accuracy = (total_counter-total_error)/total_counter\n",
    "print('Accuracy is ' + str(accuracy))"
   ]
  },
  {
   "cell_type": "code",
   "execution_count": null,
   "metadata": {},
   "outputs": [],
   "source": []
  }
 ],
 "metadata": {
  "kernelspec": {
   "display_name": "Python 3",
   "language": "python",
   "name": "python3"
  },
  "language_info": {
   "codemirror_mode": {
    "name": "ipython",
    "version": 3
   },
   "file_extension": ".py",
   "mimetype": "text/x-python",
   "name": "python",
   "nbconvert_exporter": "python",
   "pygments_lexer": "ipython3",
   "version": "3.5.2"
  }
 },
 "nbformat": 4,
 "nbformat_minor": 2
}
